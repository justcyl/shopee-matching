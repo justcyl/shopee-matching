{
 "cells": [
  {
   "cell_type": "code",
   "execution_count": 1,
   "metadata": {},
   "outputs": [],
   "source": [
    "COMPUTE_CV = True"
   ]
  },
  {
   "cell_type": "code",
   "execution_count": 2,
   "metadata": {},
   "outputs": [
    {
     "data": {
      "text/html": [
       "<div>\n",
       "<style scoped>\n",
       "    .dataframe tbody tr th:only-of-type {\n",
       "        vertical-align: middle;\n",
       "    }\n",
       "\n",
       "    .dataframe tbody tr th {\n",
       "        vertical-align: top;\n",
       "    }\n",
       "\n",
       "    .dataframe thead th {\n",
       "        text-align: right;\n",
       "    }\n",
       "</style>\n",
       "<table border=\"1\" class=\"dataframe\">\n",
       "  <thead>\n",
       "    <tr style=\"text-align: right;\">\n",
       "      <th></th>\n",
       "      <th>posting_id</th>\n",
       "      <th>image</th>\n",
       "      <th>image_phash</th>\n",
       "      <th>title</th>\n",
       "      <th>label_group</th>\n",
       "      <th>target</th>\n",
       "    </tr>\n",
       "  </thead>\n",
       "  <tbody>\n",
       "    <tr>\n",
       "      <th>2</th>\n",
       "      <td>train_2288590299</td>\n",
       "      <td>../input/train_images/000a190fdd715a2a36faed16...</td>\n",
       "      <td>b94cb00ed3e50f78</td>\n",
       "      <td>Maling TTS Canned Pork Luncheon Meat 397 gr</td>\n",
       "      <td>2395904891</td>\n",
       "      <td>train_2288590299 train_3803689425</td>\n",
       "    </tr>\n",
       "    <tr>\n",
       "      <th>10</th>\n",
       "      <td>train_1598329973</td>\n",
       "      <td>../input/train_images/001d7f5d9a2fac714f4d5f37...</td>\n",
       "      <td>bec8d09693634b4b</td>\n",
       "      <td>Atasan Rajut Wanita LISDIA SWEATER</td>\n",
       "      <td>2462407944</td>\n",
       "      <td>train_1598329973 train_841015183 train_4224502769</td>\n",
       "    </tr>\n",
       "    <tr>\n",
       "      <th>14</th>\n",
       "      <td>train_4287573913</td>\n",
       "      <td>../input/train_images/001f5580b058c6b8e3313219...</td>\n",
       "      <td>dc85e1750687f932</td>\n",
       "      <td>Charger VIZZ VZ-TC11 / batok charger vizz 1A O...</td>\n",
       "      <td>1932232224</td>\n",
       "      <td>train_4287573913 train_1748125201 train_163362...</td>\n",
       "    </tr>\n",
       "    <tr>\n",
       "      <th>15</th>\n",
       "      <td>train_4196427721</td>\n",
       "      <td>../input/train_images/002039aaf8618627a0442d5e...</td>\n",
       "      <td>e98c873acc65946e</td>\n",
       "      <td>Korek Kuping LED untuk balita CherryBabyKidsSh...</td>\n",
       "      <td>349297863</td>\n",
       "      <td>train_4196427721 train_1482447822 train_234660...</td>\n",
       "    </tr>\n",
       "    <tr>\n",
       "      <th>18</th>\n",
       "      <td>train_2985955659</td>\n",
       "      <td>../input/train_images/002f978c58a44a00aadfca71...</td>\n",
       "      <td>bf38f0e083d7c710</td>\n",
       "      <td>HnKfashion Sweater Hoodie WHO Printing BabyTer...</td>\n",
       "      <td>3415582503</td>\n",
       "      <td>train_2985955659 train_3916258742 train_415673...</td>\n",
       "    </tr>\n",
       "  </tbody>\n",
       "</table>\n",
       "</div>"
      ],
      "text/plain": [
       "          posting_id                                              image  \\\n",
       "2   train_2288590299  ../input/train_images/000a190fdd715a2a36faed16...   \n",
       "10  train_1598329973  ../input/train_images/001d7f5d9a2fac714f4d5f37...   \n",
       "14  train_4287573913  ../input/train_images/001f5580b058c6b8e3313219...   \n",
       "15  train_4196427721  ../input/train_images/002039aaf8618627a0442d5e...   \n",
       "18  train_2985955659  ../input/train_images/002f978c58a44a00aadfca71...   \n",
       "\n",
       "         image_phash                                              title  \\\n",
       "2   b94cb00ed3e50f78        Maling TTS Canned Pork Luncheon Meat 397 gr   \n",
       "10  bec8d09693634b4b                 Atasan Rajut Wanita LISDIA SWEATER   \n",
       "14  dc85e1750687f932  Charger VIZZ VZ-TC11 / batok charger vizz 1A O...   \n",
       "15  e98c873acc65946e  Korek Kuping LED untuk balita CherryBabyKidsSh...   \n",
       "18  bf38f0e083d7c710  HnKfashion Sweater Hoodie WHO Printing BabyTer...   \n",
       "\n",
       "    label_group                                             target  \n",
       "2    2395904891                  train_2288590299 train_3803689425  \n",
       "10   2462407944  train_1598329973 train_841015183 train_4224502769  \n",
       "14   1932232224  train_4287573913 train_1748125201 train_163362...  \n",
       "15    349297863  train_4196427721 train_1482447822 train_234660...  \n",
       "18   3415582503  train_2985955659 train_3916258742 train_415673...  "
      ]
     },
     "execution_count": 2,
     "metadata": {},
     "output_type": "execute_result"
    }
   ],
   "source": [
    "import pandas as pd\n",
    "\n",
    "# DATA_PATH = \"../input/shopee-product-matching/\"\n",
    "DATA_PATH = \"../input/\"\n",
    "\n",
    "\n",
    "if COMPUTE_CV == False:\n",
    "    train = pd.read_csv(DATA_PATH + \"test.csv\")\n",
    "    train[\"image\"] = DATA_PATH + \"test_images/\" + train[\"image\"]\n",
    "else:\n",
    "    train = pd.read_csv(DATA_PATH + \"train_min.csv\")\n",
    "    train[\"target\"] = train.label_group.map(\n",
    "        train.groupby(\"label_group\").posting_id.agg(\"unique\").to_dict()\n",
    "    )\n",
    "    train[\"target\"] = train[\"target\"].apply(lambda x: \" \".join(x))\n",
    "    train[\"image\"] = DATA_PATH + \"train_images/\" + train[\"image\"]\n",
    "\n",
    "train.head()"
   ]
  },
  {
   "cell_type": "code",
   "execution_count": 3,
   "metadata": {},
   "outputs": [
    {
     "name": "stdout",
     "output_type": "stream",
     "text": [
      "cuda:0\n",
      "Building Model Backbone for ../input/shopee-models/paraphrase-xlm-r-multilingual-v1 model\n"
     ]
    },
    {
     "name": "stderr",
     "output_type": "stream",
     "text": [
      "get_bert_embeddings: 100%|████████████████████| 209/209 [00:04<00:00, 48.93it/s]\n"
     ]
    },
    {
     "name": "stdout",
     "output_type": "stream",
     "text": [
      "Finding similar by cosine KNN..., len of train: 6644, KNN=55\n",
      "CV score for xlm_arcface_0.4 =  0.9644504530765503\n"
     ]
    }
   ],
   "source": [
    "import xlm_v1_arcface\n",
    "\n",
    "train = xlm_v1_arcface.eval(\n",
    "    train\n",
    ")"
   ]
  },
  {
   "cell_type": "code",
   "execution_count": 4,
   "metadata": {},
   "outputs": [
    {
     "name": "stdout",
     "output_type": "stream",
     "text": [
      "Building Model Backbone for eca_nfnet_l0 model\n"
     ]
    },
    {
     "data": {
      "application/vnd.jupyter.widget-view+json": {
       "model_id": "656dde611b6c47ce9fc48ed24d3ebf54",
       "version_major": 2,
       "version_minor": 0
      },
      "text/plain": [
       "  0%|          | 0/831 [00:00<?, ?it/s]"
      ]
     },
     "metadata": {},
     "output_type": "display_data"
    },
    {
     "name": "stdout",
     "output_type": "stream",
     "text": [
      "Our image embeddings shape is (6644, 11014)\n",
      "got embeddings! threshold=0.36\n",
      "image embeddings shape (6644, 11014)\n",
      "Finding similar by cosine KNN..., len of train: 6644, KNN=55\n",
      "CV score for eca_nfnet_l0_arcface_0.36 =  0.8700010965741974\n"
     ]
    }
   ],
   "source": [
    "import eca_nfnet_l0_arc_face\n",
    "\n",
    "train = eca_nfnet_l0_arc_face.eval(\n",
    "    train, destination=\"oof_nfnet_arcface\", threshold=0.36\n",
    ")"
   ]
  },
  {
   "cell_type": "code",
   "execution_count": 7,
   "metadata": {},
   "outputs": [],
   "source": [
    "import numpy as np\n",
    "def combine_for_sub(row):\n",
    "    x=row.oof_xlm_arcface.split(' ') + row.oof_nfnet_arcface.split(' ')\n",
    "    # x = np.concatenate([row.oof_xlm_arcface, row.oof_nfnet_arcface])\n",
    "    return ' '.join( set(x) )"
   ]
  },
  {
   "cell_type": "code",
   "execution_count": 9,
   "metadata": {},
   "outputs": [],
   "source": [
    "train.head()\n",
    "train['matches'] = train.apply(combine_for_sub,axis=1)\n",
    "train.to_csv(DATA_PATH+\"res.csv\")"
   ]
  },
  {
   "cell_type": "code",
   "execution_count": 10,
   "metadata": {},
   "outputs": [],
   "source": [
    "import eval_preds\n",
    "train['precision'],train['recall'],train['f1'] =  eval_preds.get_score(train['target'], train[\"matches\"])\n",
    "print(train.f1.mean())"
   ]
  }
 ],
 "metadata": {
  "kernelspec": {
   "display_name": "kaggle",
   "language": "python",
   "name": "python3"
  },
  "language_info": {
   "codemirror_mode": {
    "name": "ipython",
    "version": 3
   },
   "file_extension": ".py",
   "mimetype": "text/x-python",
   "name": "python",
   "nbconvert_exporter": "python",
   "pygments_lexer": "ipython3",
   "version": "3.10.13"
  }
 },
 "nbformat": 4,
 "nbformat_minor": 2
}
