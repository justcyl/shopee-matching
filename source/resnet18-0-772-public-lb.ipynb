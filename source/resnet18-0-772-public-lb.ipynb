{
 "metadata": {
  "kernelspec": {
   "language": "python",
   "display_name": "Python 3",
   "name": "python3"
  },
  "language_info": {
   "pygments_lexer": "ipython3",
   "nbconvert_exporter": "python",
   "version": "3.6.4",
   "file_extension": ".py",
   "codemirror_mode": {
    "name": "ipython",
    "version": 3
   },
   "name": "python",
   "mimetype": "text/x-python"
  }
 },
 "nbformat_minor": 4,
 "nbformat": 4,
 "cells": [
  {
   "cell_type": "markdown",
   "source": [
    "# This is a simplified version of my 18th place solution in the **Shopee - Price Match Guarantee** contest\n",
    "## I replaced my image models with resnet18 to showcase that even a very basic model could do well and was enough to score a silver medal in this competition"
   ],
   "metadata": {
    "papermill": {
     "duration": 0.043624,
     "end_time": "2021-05-23T12:17:45.101012",
     "exception": false,
     "start_time": "2021-05-23T12:17:45.057388",
     "status": "completed"
    },
    "tags": []
   }
  },
  {
   "cell_type": "markdown",
   "source": [
    "## UPDATE: I also incorporated embeddings blending from the 1st place solution described [here](https://www.kaggle.com/c/shopee-product-matching/discussion/238136) and extraction of units of measurements inspired by [this kernel](https://www.kaggle.com/readoc/extract-measurements-feature-engineering). All this together scored .772 (762 private) which would have placed it in the top 10 - still using just a single resnet18 + BERT (trained on 80% of the train data)"
   ],
   "metadata": {
    "papermill": {
     "duration": 0.036165,
     "end_time": "2021-05-23T12:17:45.175607",
     "exception": false,
     "start_time": "2021-05-23T12:17:45.139442",
     "status": "completed"
    },
    "tags": []
   }
  },
  {
   "cell_type": "markdown",
   "source": [
    "# An outline of the (updated) approach\n",
    "\n",
    "### Step 1 training \n",
    "I used arcface for all my training, and fine tune pretrained models with it for a few epochs. For image I tried resnet, efficient net and nfnet. The nfnet worked the best for me so that’s in my final solution. The resnet18 I used in the toy solution just to show a very basic model can work too. \n",
    "\n",
    "For text I found that a language model pretrained on Indonesian language worked the best.\n",
    "\n",
    "### Step 2 Embeddings and similarities \n",
    "For both models I first generate embedddings and then find the top 50 nearest neighbours for each row.\n",
    "\n",
    "### Step 3 Combine the model outputs\n",
    "I combine the neighbours from the previous step with formula D = D<sub>Resnet</sub> + D<sub>BERT</sub> - D<sub>Resnet</sub> * D<sub>BERT</sub>\n",
    "\n",
    "This I found works much better than alternatives of taking mean or max.\n",
    "\n",
    "### Step 4 Blending\n",
    "I perform a single step of [Neighborhood Blending](https://www.kaggle.com/c/shopee-product-matching/discussion/238136)\n",
    "This represented a jump in score from .749 to .770\n",
    "\n",
    "### Step 5 Unmatching based on measurements units\n",
    "I remove close matches that differ with measurement units in description ie 150ml vs 300ml.\n",
    "This improved the score .770 -> .772\n",
    "\n",
    "### Step 6 force groups into a desired distribution \n",
    "This was a largest single change I made, jumping my score from .739 to .759\n",
    "I nicknamed it “chiseling” the idea is: I first make an educated guess that the distribution of group targets in the test data is similar to the one in train. Then I remove matches until my submission has the same shape.\n",
    "\n",
    "\n",
    "\n",
    "\n"
   ],
   "metadata": {
    "papermill": {
     "duration": 0.036945,
     "end_time": "2021-05-23T12:17:45.24885",
     "exception": false,
     "start_time": "2021-05-23T12:17:45.211905",
     "status": "completed"
    },
    "tags": []
   }
  },
  {
   "cell_type": "code",
   "source": [
    "from fastai.vision.all import *\n",
    "from tqdm.notebook import tqdm\n",
    "import sklearn.feature_extraction.text\n",
    "from transformers import (BertTokenizer, AutoConfig, AutoModel)\n",
    "from sklearn.model_selection import StratifiedKFold\n",
    "import regex"
   ],
   "metadata": {
    "_cell_guid": "77132214-d48c-4b70-be5e-8dedc6678024",
    "_uuid": "ff5bb67f-2120-4e43-9194-3c81163b88b8",
    "execution": {
     "iopub.execute_input": "2021-05-23T12:17:45.335519Z",
     "iopub.status.busy": "2021-05-23T12:17:45.334632Z",
     "iopub.status.idle": "2021-05-23T12:17:48.945107Z",
     "shell.execute_reply": "2021-05-23T12:17:48.943747Z",
     "shell.execute_reply.started": "2021-05-23T11:09:10.535082Z"
    },
    "papermill": {
     "duration": 3.659521,
     "end_time": "2021-05-23T12:17:48.945323",
     "exception": false,
     "start_time": "2021-05-23T12:17:45.285802",
     "status": "completed"
    },
    "tags": []
   },
   "execution_count": null,
   "outputs": []
  },
  {
   "cell_type": "code",
   "source": [
    "PATH = Path('../input')\n",
    "\n",
    "BERT_PATH = '../input/bertindo15g'\n",
    "bert_model_file = '../input/shopee-small-models/bert_indo_val0.pth'\n",
    "\n",
    "image_model_file = '../input/shopee-small-models/resnet18val0.pth'\n"
   ],
   "metadata": {
    "_cell_guid": "e349984e-3a5a-4d8b-aac6-11a3ac1a1eee",
    "_uuid": "1cc2236b-bfee-4b58-93e0-f7604caffdae",
    "collapsed": false,
    "execution": {
     "iopub.execute_input": "2021-05-23T12:17:49.025116Z",
     "iopub.status.busy": "2021-05-23T12:17:49.024019Z",
     "iopub.status.idle": "2021-05-23T12:17:49.027278Z",
     "shell.execute_reply": "2021-05-23T12:17:49.026618Z",
     "shell.execute_reply.started": "2021-05-23T11:09:13.694908Z"
    },
    "papermill": {
     "duration": 0.044648,
     "end_time": "2021-05-23T12:17:49.027419",
     "exception": false,
     "start_time": "2021-05-23T12:17:48.982771",
     "status": "completed"
    },
    "tags": []
   },
   "execution_count": null,
   "outputs": []
  },
  {
   "cell_type": "code",
   "source": [
    "# thees are thresholds used for Neighborhood Blending\n",
    "RECIPROCAL_THRESHOLD = .97\n",
    "MIN_PAIR_THRESHOLD = .6"
   ],
   "metadata": {
    "_cell_guid": "c4ef6d88-7b51-4dd0-82f1-4a18143094c8",
    "_uuid": "cb2c5e2d-2579-4194-b8d4-d540e649393a",
    "collapsed": false,
    "execution": {
     "iopub.execute_input": "2021-05-23T12:17:49.10475Z",
     "iopub.status.busy": "2021-05-23T12:17:49.103835Z",
     "iopub.status.idle": "2021-05-23T12:17:49.107288Z",
     "shell.execute_reply": "2021-05-23T12:17:49.10669Z",
     "shell.execute_reply.started": "2021-05-23T11:09:13.706317Z"
    },
    "papermill": {
     "duration": 0.043772,
     "end_time": "2021-05-23T12:17:49.10743",
     "exception": false,
     "start_time": "2021-05-23T12:17:49.063658",
     "status": "completed"
    },
    "tags": []
   },
   "execution_count": null,
   "outputs": []
  },
  {
   "cell_type": "markdown",
   "source": [
    "## Bert Model"
   ],
   "metadata": {
    "_cell_guid": "3a6de183-f534-43ea-8221-0b42a29d2262",
    "_uuid": "f73d5522-1e48-490e-ae30-a465a8430059",
    "papermill": {
     "duration": 0.037237,
     "end_time": "2021-05-23T12:17:49.182826",
     "exception": false,
     "start_time": "2021-05-23T12:17:49.145589",
     "status": "completed"
    },
    "tags": []
   }
  },
  {
   "cell_type": "code",
   "source": [
    "class BertTextModel(nn.Module):\n",
    "    def __init__(self, bert_model):\n",
    "        super().__init__()\n",
    "        self.bert_model = bert_model\n",
    "    def forward(self, x):\n",
    "        output = self.bert_model(*x)\n",
    "        return output.last_hidden_state[:,0,:]"
   ],
   "metadata": {
    "_cell_guid": "872258eb-cdba-48f0-9529-bd7a8827b6dd",
    "_uuid": "8853c86b-0515-46c6-9d1c-3356d8ce08c5",
    "collapsed": false,
    "execution": {
     "iopub.execute_input": "2021-05-23T12:17:49.264565Z",
     "iopub.status.busy": "2021-05-23T12:17:49.263492Z",
     "iopub.status.idle": "2021-05-23T12:17:49.267114Z",
     "shell.execute_reply": "2021-05-23T12:17:49.266445Z",
     "shell.execute_reply.started": "2021-05-23T11:09:13.713067Z"
    },
    "papermill": {
     "duration": 0.046987,
     "end_time": "2021-05-23T12:17:49.267241",
     "exception": false,
     "start_time": "2021-05-23T12:17:49.220254",
     "status": "completed"
    },
    "tags": []
   },
   "execution_count": null,
   "outputs": []
  },
  {
   "cell_type": "code",
   "source": [
    "def load_bert_model(fname):\n",
    "    model = AutoModel.from_config(AutoConfig.from_pretrained(BERT_PATH))\n",
    "    state = torch.load(fname)\n",
    "    model.load_state_dict(state)\n",
    "    return BertTextModel(model).cuda().eval()"
   ],
   "metadata": {
    "_cell_guid": "f480f4ca-b62b-45fc-b893-64082dd110e9",
    "_uuid": "f63672bb-da68-476c-b0aa-93eec8da7f6d",
    "collapsed": false,
    "execution": {
     "iopub.execute_input": "2021-05-23T12:17:49.346473Z",
     "iopub.status.busy": "2021-05-23T12:17:49.345488Z",
     "iopub.status.idle": "2021-05-23T12:17:49.348434Z",
     "shell.execute_reply": "2021-05-23T12:17:49.348994Z",
     "shell.execute_reply.started": "2021-05-23T11:09:13.721203Z"
    },
    "papermill": {
     "duration": 0.045385,
     "end_time": "2021-05-23T12:17:49.349195",
     "exception": false,
     "start_time": "2021-05-23T12:17:49.30381",
     "status": "completed"
    },
    "tags": []
   },
   "execution_count": null,
   "outputs": []
  },
  {
   "cell_type": "markdown",
   "source": [
    "### Dataloader for Bert"
   ],
   "metadata": {
    "papermill": {
     "duration": 0.035546,
     "end_time": "2021-05-23T12:17:49.42007",
     "exception": false,
     "start_time": "2021-05-23T12:17:49.384524",
     "status": "completed"
    },
    "tags": []
   }
  },
  {
   "cell_type": "code",
   "source": [
    "#Taken from https://www.kaggle.com/c/shopee-product-matching/discussion/233605#1278984\n",
    "def string_escape(s, encoding='utf-8'):\n",
    "    return s.encode('latin1').decode('unicode-escape').encode('latin1').decode(encoding)\n",
    "\n",
    "class TitleTransform(Transform):\n",
    "    def __init__(self):\n",
    "        super().__init__()\n",
    "        self.tokenizer = BertTokenizer.from_pretrained(BERT_PATH)\n",
    "               \n",
    "    def encodes(self, row):\n",
    "        text = row.title\n",
    "        text=string_escape(text)\n",
    "        encodings = self.tokenizer(text, padding = 'max_length', max_length=100, truncation=True,return_tensors='pt')\n",
    "        keys =['input_ids', 'attention_mask', 'token_type_ids'] \n",
    "        return tuple(encodings[key].squeeze() for key in keys)\n",
    "\n",
    "def get_text_dls():\n",
    "    tfm = TitleTransform()\n",
    "\n",
    "    data_block = DataBlock(\n",
    "        blocks = (TransformBlock(type_tfms=tfm), \n",
    "                  CategoryBlock(vocab=train_df.label_group.to_list())),\n",
    "        splitter=ColSplitter(),\n",
    "        get_y=ColReader('label_group'),\n",
    "        )\n",
    "    return  data_block.dataloaders(train_df, bs=256)"
   ],
   "metadata": {
    "_cell_guid": "e9c9b3c7-ac0c-4927-a99f-93492c91bb43",
    "_uuid": "68f265b5-bd46-4175-a102-939d0a16eb63",
    "collapsed": false,
    "execution": {
     "iopub.execute_input": "2021-05-23T12:17:49.504627Z",
     "iopub.status.busy": "2021-05-23T12:17:49.503509Z",
     "iopub.status.idle": "2021-05-23T12:17:49.507068Z",
     "shell.execute_reply": "2021-05-23T12:17:49.506387Z",
     "shell.execute_reply.started": "2021-05-23T11:09:13.730172Z"
    },
    "papermill": {
     "duration": 0.049615,
     "end_time": "2021-05-23T12:17:49.507201",
     "exception": false,
     "start_time": "2021-05-23T12:17:49.457586",
     "status": "completed"
    },
    "tags": []
   },
   "execution_count": null,
   "outputs": []
  },
  {
   "cell_type": "markdown",
   "source": [
    "## IMAGE"
   ],
   "metadata": {
    "_cell_guid": "86805bd9-cbac-4ced-a2b5-f5069226dbca",
    "_uuid": "cdce4831-10d8-4d5d-a857-ba876826f0f9",
    "papermill": {
     "duration": 0.036493,
     "end_time": "2021-05-23T12:17:49.580656",
     "exception": false,
     "start_time": "2021-05-23T12:17:49.544163",
     "status": "completed"
    },
    "tags": []
   }
  },
  {
   "cell_type": "code",
   "source": [
    "class ResnetModel(nn.Module):\n",
    "    def __init__(self):\n",
    "        super().__init__()\n",
    "        self.body = create_body(resnet18, cut=-2, pretrained=False)\n",
    "        self.after_conv=nn.Sequential(\n",
    "            AdaptiveConcatPool2d(),\n",
    "            Flatten(),\n",
    "            nn.BatchNorm1d(1024)\n",
    "        )\n",
    "    def forward(self, x):\n",
    "        x = self.body(x)\n",
    "        return self.after_conv(x)\n",
    "        "
   ],
   "metadata": {
    "_cell_guid": "faafd9f9-9682-4fe0-b891-04bf57494c67",
    "_uuid": "cde99e66-bdb6-4ab6-a2a6-782c592c1325",
    "collapsed": false,
    "execution": {
     "iopub.execute_input": "2021-05-23T12:17:49.660795Z",
     "iopub.status.busy": "2021-05-23T12:17:49.659704Z",
     "iopub.status.idle": "2021-05-23T12:17:49.663112Z",
     "shell.execute_reply": "2021-05-23T12:17:49.66261Z",
     "shell.execute_reply.started": "2021-05-23T11:09:13.741831Z"
    },
    "papermill": {
     "duration": 0.046183,
     "end_time": "2021-05-23T12:17:49.663248",
     "exception": false,
     "start_time": "2021-05-23T12:17:49.617065",
     "status": "completed"
    },
    "tags": []
   },
   "execution_count": null,
   "outputs": []
  },
  {
   "cell_type": "code",
   "source": [
    "def load_image_model(fname):\n",
    "    state_dict = torch.load(fname)\n",
    "    model = ResnetModel()\n",
    "    model.load_state_dict(state_dict)\n",
    "    model = model.eval().cuda()\n",
    "    return model"
   ],
   "metadata": {
    "execution": {
     "iopub.execute_input": "2021-05-23T12:17:49.742859Z",
     "iopub.status.busy": "2021-05-23T12:17:49.741892Z",
     "iopub.status.idle": "2021-05-23T12:17:49.744772Z",
     "shell.execute_reply": "2021-05-23T12:17:49.745354Z",
     "shell.execute_reply.started": "2021-05-23T11:09:13.755468Z"
    },
    "papermill": {
     "duration": 0.044729,
     "end_time": "2021-05-23T12:17:49.745488",
     "exception": false,
     "start_time": "2021-05-23T12:17:49.700759",
     "status": "completed"
    },
    "tags": []
   },
   "execution_count": null,
   "outputs": []
  },
  {
   "cell_type": "code",
   "source": [
    "def get_img_file(row):\n",
    "    img =row.image\n",
    "    fn  = PATH/'train_images'/img\n",
    "    if not fn.is_file():\n",
    "        fn = PATH/'test_images'/img\n",
    "    return fn\n",
    "\n",
    "def get_image_dls(size, bs):\n",
    "    data_block = DataBlock(blocks = (ImageBlock(), CategoryBlock(vocab=train_df.label_group.to_list())),\n",
    "                 splitter=ColSplitter(),\n",
    "                 get_y=ColReader('label_group'),\n",
    "                 get_x=get_img_file,\n",
    "                 item_tfms=Resize(int(size*1.5), resamples=(Image.BICUBIC,Image.BICUBIC)), \n",
    "                 batch_tfms=aug_transforms(size=size, min_scale=0.75)+[Normalize.from_stats(*imagenet_stats)],\n",
    "                 )\n",
    "    return data_block.dataloaders(train_df, bs=bs)\n",
    "\n"
   ],
   "metadata": {
    "_cell_guid": "17aafba7-492b-44a6-8380-9e1867db732f",
    "_uuid": "db236273-6853-4657-891d-806f53450f45",
    "collapsed": false,
    "execution": {
     "iopub.execute_input": "2021-05-23T12:17:49.826708Z",
     "iopub.status.busy": "2021-05-23T12:17:49.825685Z",
     "iopub.status.idle": "2021-05-23T12:17:49.828655Z",
     "shell.execute_reply": "2021-05-23T12:17:49.829344Z",
     "shell.execute_reply.started": "2021-05-23T11:09:13.765112Z"
    },
    "papermill": {
     "duration": 0.047132,
     "end_time": "2021-05-23T12:17:49.829524",
     "exception": false,
     "start_time": "2021-05-23T12:17:49.782392",
     "status": "completed"
    },
    "tags": []
   },
   "execution_count": null,
   "outputs": []
  },
  {
   "cell_type": "markdown",
   "source": [
    "## Helper code"
   ],
   "metadata": {
    "_cell_guid": "00b1b23c-8ce9-460c-a1c6-f573072e3590",
    "_uuid": "11385402-719c-4535-9ccf-4d4773185f51",
    "papermill": {
     "duration": 0.035444,
     "end_time": "2021-05-23T12:17:49.900451",
     "exception": false,
     "start_time": "2021-05-23T12:17:49.865007",
     "status": "completed"
    },
    "tags": []
   }
  },
  {
   "cell_type": "code",
   "source": [
    "\n",
    "def add_target_groups(data_df, source_column='label_group', target_column='target'):\n",
    "    target_groups = data_df.groupby(source_column).indices\n",
    "    data_df[target_column]=data_df[source_column].map(target_groups)\n",
    "    return data_df\n",
    "\n",
    "def add_splits(train_df, valid_group=0):\n",
    "    grouped = train_df.groupby('label_group').size()\n",
    "\n",
    "    labels, sizes =grouped.index.to_list(), grouped.to_list()\n",
    "\n",
    "    skf = StratifiedKFold(5)\n",
    "    splits = list(skf.split(labels, sizes))\n",
    "\n",
    "    group_to_split =  dict()\n",
    "    for idx in range(5):\n",
    "        labs = np.array(labels)[splits[idx][1]]\n",
    "        group_to_split.update(dict(zip(labs, [idx]*len(labs))))\n",
    "\n",
    "    train_df['split'] = train_df.label_group.replace(group_to_split)\n",
    "    train_df['is_valid'] = train_df['split'] == valid_group\n",
    "    return train_df\n",
    "\n",
    "def embs_from_model(model, dl):\n",
    "    all_embs = []\n",
    "    all_ys=[]\n",
    "    for batch in tqdm(dl):\n",
    "        if len(batch) ==2:\n",
    "            bx,by=batch\n",
    "        else:\n",
    "            bx,=batch\n",
    "            by=torch.zeros(1)\n",
    "        with torch.no_grad():\n",
    "            embs = model(bx)\n",
    "            all_embs.append(embs.half())\n",
    "        all_ys.append(by)\n",
    "    all_embs = F.normalize(torch.cat(all_embs))\n",
    "    return all_embs, torch.cat(all_ys)\n",
    "\n",
    "def get_targets_shape(train_df):\n",
    "    all_targets = add_target_groups(train_df).target.to_list()\n",
    "    all_targets_lens = [len(t) for t in all_targets]\n",
    "    targets_shape = []\n",
    "    for size in range(min(all_targets_lens), max(all_targets_lens)+1):\n",
    "        count = all_targets_lens.count(size) / len(all_targets)\n",
    "        targets_shape.append((size,count))\n",
    "    return targets_shape\n",
    "\n",
    "def chisel(groups, groups_p, pos, target_count):\n",
    "    probs = []\n",
    "    groups_lens = [len(g)for g in groups]\n",
    "    current_count = groups_lens.count(pos)\n",
    "    if current_count >= target_count:\n",
    "\n",
    "        return\n",
    "    to_cut = target_count - current_count\n",
    "    for i in range(len(groups)):\n",
    "        if len(groups_p[i])>pos:\n",
    "            probs.append((i, groups_p[i][pos]))\n",
    "    probs.sort(key=lambda x:x[1])\n",
    "    for i in range(min(to_cut, len(probs))):\n",
    "        group_idx = probs[i][0] \n",
    "        groups[group_idx]=groups[group_idx][:pos]\n",
    "        groups_p[group_idx]=groups_p[group_idx][:pos]"
   ],
   "metadata": {
    "_cell_guid": "98e51efa-e6f6-41d6-b410-3f7dbc5a7e70",
    "_uuid": "c3e139d8-7fcc-49eb-a105-8186c83009bd",
    "execution": {
     "iopub.execute_input": "2021-05-23T12:17:49.98949Z",
     "iopub.status.busy": "2021-05-23T12:17:49.988552Z",
     "iopub.status.idle": "2021-05-23T12:17:49.992219Z",
     "shell.execute_reply": "2021-05-23T12:17:49.991659Z",
     "shell.execute_reply.started": "2021-05-23T11:09:13.774705Z"
    },
    "papermill": {
     "duration": 0.056058,
     "end_time": "2021-05-23T12:17:49.992354",
     "exception": false,
     "start_time": "2021-05-23T12:17:49.936296",
     "status": "completed"
    },
    "tags": []
   },
   "execution_count": null,
   "outputs": []
  },
  {
   "cell_type": "code",
   "source": [
    "\n",
    "def sorted_pairs(distances, indices):\n",
    "    triplets = []\n",
    "    n= len(distances)\n",
    "    for x in range(n):\n",
    "        used=set()\n",
    "        for ind, dist in zip(indices[x].tolist(), distances[x].tolist()):\n",
    "            if not ind in used:\n",
    "                triplets.append((x, ind, dist))\n",
    "                used.add(ind)\n",
    "    return sorted(triplets, key=lambda x: -x[2])\n",
    "def do_chunk(embs):\n",
    "    step = 1000\n",
    "    for chunk_start in range(0, embs.shape[0], step):\n",
    "        chunk_end = min(chunk_start+step, len(embs))\n",
    "        yield embs[chunk_start:chunk_end]\n",
    "def get_nearest(embs, emb_chunks, K=None, sorted=True):\n",
    "    if K is None:\n",
    "        K = min(51, len(embs))\n",
    "    distances = []\n",
    "    indices = []\n",
    "    for chunk in emb_chunks:\n",
    "        sim = embs @ chunk.T\n",
    "        top_vals, top_inds = sim.topk(K, dim=0, sorted=sorted)\n",
    "        distances.append(top_vals.T)\n",
    "        indices.append(top_inds.T)\n",
    "    return torch.cat(distances), torch.cat(indices)\n",
    "\n",
    "def combined_distances(embs_list):\n",
    "    K = min(len(embs_list[0]), 51)\n",
    "    combined_inds =[get_nearest(embs, do_chunk(embs))[1] for embs in embs_list]\n",
    "    combined_inds = torch.cat(combined_inds, dim=1)\n",
    "    res_inds,res_dists = [],[]\n",
    "    for x in range(len(combined_inds)):\n",
    "        inds = combined_inds[x].unique()\n",
    "        Ds = [embs[None,x] @ embs[inds].T for embs in embs_list]\n",
    "        D = Ds[0] + Ds[1] - Ds[0] * Ds[1]\n",
    "        top_dists, top_inds = D.topk(K)\n",
    "        res_inds.append(inds[top_inds])\n",
    "        res_dists.append(top_dists)\n",
    "    return torch.cat(res_inds), torch.cat(res_dists)\n",
    "\n",
    "def blend_embs(embs_list, threshold, m2_threshold, data_df):\n",
    "    combined_inds, combined_dists = combined_distances(embs_list)\n",
    "    check_measurements(combined_dists, combined_inds, data_df)\n",
    "    new_embs_list = L((torch.empty_like(embs) for embs in embs_list))\n",
    "    for x in range(len(embs_list[0])):\n",
    "        neighs = combined_dists[x] > threshold\n",
    "        if neighs.sum() == 1 and combined_dists[x][1]>m2_threshold:\n",
    "            neighs[1]=1\n",
    "        neigh_inds, neigh_ratios = combined_inds[x, neighs], combined_dists[x,neighs]\n",
    "        for embs, new_embs in zip(embs_list, new_embs_list):\n",
    "            new_embs[x] = (embs[neigh_inds] * neigh_ratios.view(-1,1)).sum(dim=0)\n",
    "    return new_embs_list.map(F.normalize)"
   ],
   "metadata": {
    "execution": {
     "iopub.execute_input": "2021-05-23T12:17:50.083691Z",
     "iopub.status.busy": "2021-05-23T12:17:50.082665Z",
     "iopub.status.idle": "2021-05-23T12:17:50.086016Z",
     "shell.execute_reply": "2021-05-23T12:17:50.0854Z",
     "shell.execute_reply.started": "2021-05-23T11:09:13.793644Z"
    },
    "papermill": {
     "duration": 0.057646,
     "end_time": "2021-05-23T12:17:50.086141",
     "exception": false,
     "start_time": "2021-05-23T12:17:50.028495",
     "status": "completed"
    },
    "tags": []
   },
   "execution_count": null,
   "outputs": []
  },
  {
   "cell_type": "code",
   "source": [
    "# Not used in solution, just for illustration purpose\n",
    "def f1(tp, fp, num_tar):\n",
    "    return 2 * tp / (tp+fp+num_tar)\n",
    "\n",
    "def build_from_pairs(pairs, target, display = True):\n",
    "    score =0\n",
    "    tp = [0]*len(target)\n",
    "    fp = [0]*len(target)\n",
    "    scores=[]\n",
    "    vs=[]\n",
    "    group_sizes = [len(x) for x in target]\n",
    "    for x, y, v in pairs:\n",
    "        group_size = group_sizes[x]\n",
    "        score -= f1(tp[x], fp[x], group_size)\n",
    "        if y in target[x]: tp[x] +=1\n",
    "        else: fp[x] +=1\n",
    "        score += f1(tp[x], fp[x], group_size) \n",
    "        scores.append(score / len(target))\n",
    "        vs.append(v)\n",
    "    if display:\n",
    "        plt.plot(scores)\n",
    "        am =torch.tensor(scores).argmax()\n",
    "        print(f'{scores[am]:.3f} at {am/len(target)} pairs or {vs[am]:.3f} threshold')\n",
    "    return scores\n",
    "\n",
    "\n",
    "def score_distances(dist, targets, display=False):\n",
    "    triplets = dist_to_edges(dist)[:len(dist)*10]\n",
    "    return max(build_from_pairs(triplets, targets, display))\n",
    "\n",
    "def score_group(group, target):\n",
    "    tp = len(set(group).intersection(set(target)))\n",
    "    return 2 * tp / (len(group)+len(target))\n",
    "def score_all_groups(groups, targets):\n",
    "    scores = [score_group(groups[i], targets[i]) for i in range(len(groups))]\n",
    "    return sum(scores)/len(scores)\n",
    "def show_groups(groups, targets):\n",
    "    groups_lens = [len(g)for g in groups]\n",
    "    targets_lens = [len(g) for g in targets]\n",
    "    plt.figure(figsize=(8,8)) \n",
    "    plt.hist((groups_lens,targets_lens) ,bins=list(range(1,52)), label=['preds', 'targets'])\n",
    "    plt.legend()\n",
    "    plt.title(f'score: {score_all_groups(groups, targets):.3f}')\n",
    "    plt.show()"
   ],
   "metadata": {
    "_cell_guid": "2e3fae08-7cb5-43b0-872c-367511499168",
    "_uuid": "6a85347d-9acd-437e-8567-71e044da67fb",
    "execution": {
     "iopub.execute_input": "2021-05-23T12:17:50.176796Z",
     "iopub.status.busy": "2021-05-23T12:17:50.175815Z",
     "iopub.status.idle": "2021-05-23T12:17:50.179056Z",
     "shell.execute_reply": "2021-05-23T12:17:50.178438Z",
     "shell.execute_reply.started": "2021-05-23T11:09:13.8125Z"
    },
    "papermill": {
     "duration": 0.055726,
     "end_time": "2021-05-23T12:17:50.179175",
     "exception": false,
     "start_time": "2021-05-23T12:17:50.123449",
     "status": "completed"
    },
    "tags": []
   },
   "execution_count": null,
   "outputs": []
  },
  {
   "cell_type": "markdown",
   "source": [
    "### Helper code for units of measurement matching"
   ],
   "metadata": {
    "papermill": {
     "duration": 0.035945,
     "end_time": "2021-05-23T12:17:50.250583",
     "exception": false,
     "start_time": "2021-05-23T12:17:50.214638",
     "status": "completed"
    },
    "tags": []
   }
  },
  {
   "cell_type": "code",
   "source": [
    "measurements = {\n",
    "    'weight': [('mg',1), ('g', 1000), ('gr', 1000), ('gram', 1000), ('kg', 1000000)],\n",
    "    'length': [('mm',1), ('cm', 10), ('m',1000), ('meter', 1000)],\n",
    "    'pieces': [ ('pc',1)],\n",
    "    'memory': [('gb', 1)],\n",
    "    'volume': [('ml', 1), ('l', 1000), ('liter',1000)]\n",
    "}\n",
    "\n",
    "def to_num(x, mult=1):\n",
    "    x = x.replace(',','.')\n",
    "    return int(float(x)*mult)\n",
    "\n",
    "def extract_unit(tit, m):\n",
    "    pat = f'\\W(\\d+(?:[\\,\\.]\\d+)?) ?{m}s?\\W'\n",
    "    matches = regex.findall(pat, tit, overlapped=True)\n",
    "    return set(matches)\n",
    "\n",
    "def extract(tit):\n",
    "\n",
    "    res =dict()\n",
    "    tit = ' '+tit.lower()+' '\n",
    "    for cat, units in measurements.items():\n",
    "        cat_values=set()\n",
    "        for unit_name, mult in units:\n",
    "            values = extract_unit(tit, unit_name)\n",
    "            values = {to_num(v, mult) for v in values}\n",
    "            cat_values = cat_values.union(values)\n",
    "        if cat_values:\n",
    "            res[cat] = cat_values\n",
    "    return res\n",
    "\n",
    "def add_measurements(data):\n",
    "    data['measurement'] = data.title.map(extract)\n",
    "    return data\n",
    "\n",
    "def match_measures(m1, m2):\n",
    "    k1,k2 = set(m1.keys()), set(m2.keys())\n",
    "    common = k1.intersection(k2)\n",
    "    if not common: return True\n",
    "    for key in common:\n",
    "        s1,s2 = m1[key], m2[key]\n",
    "        if s1.intersection(s2):\n",
    "            return True\n",
    "    return False\n",
    "\n",
    "def check_measurements(combined_dists, combined_inds, data_df):\n",
    "    K = min(8, len(data_df)) * len(data_df)\n",
    "    _, inds_k = combined_dists.view(-1).topk(K)\n",
    "    removed = 0\n",
    "    inds_k = inds_k.tolist()\n",
    "    for idx in inds_k:\n",
    "        x = idx // combined_inds.shape[1]\n",
    "        y_idx = idx % combined_inds.shape[1]\n",
    "        y = combined_inds[x,y_idx] \n",
    "        if not match_measures(data_df.iloc[x].measurement, data_df.iloc[y.item()].measurement):\n",
    "            removed +=1\n",
    "            combined_dists[x][y_idx]=0\n",
    "    print('removed', removed, 'matches')"
   ],
   "metadata": {
    "execution": {
     "iopub.execute_input": "2021-05-23T12:17:50.344989Z",
     "iopub.status.busy": "2021-05-23T12:17:50.343957Z",
     "iopub.status.idle": "2021-05-23T12:17:50.347736Z",
     "shell.execute_reply": "2021-05-23T12:17:50.347162Z",
     "shell.execute_reply.started": "2021-05-23T11:21:08.01735Z"
    },
    "papermill": {
     "duration": 0.059067,
     "end_time": "2021-05-23T12:17:50.347886",
     "exception": false,
     "start_time": "2021-05-23T12:17:50.288819",
     "status": "completed"
    },
    "tags": []
   },
   "execution_count": null,
   "outputs": []
  },
  {
   "cell_type": "markdown",
   "source": [
    "## Check on validation set"
   ],
   "metadata": {
    "_cell_guid": "b62b7989-4eb5-411f-a08d-df78b33aea77",
    "_uuid": "54e4613e-64d9-4b56-b738-4ab7ea379901",
    "papermill": {
     "duration": 0.036498,
     "end_time": "2021-05-23T12:17:50.423288",
     "exception": false,
     "start_time": "2021-05-23T12:17:50.38679",
     "status": "completed"
    },
    "tags": []
   }
  },
  {
   "cell_type": "code",
   "source": [
    "train_df = pd.read_csv(PATH/'train.csv')\n",
    "train_df = add_splits(train_df)\n",
    "\n",
    "valid_df = train_df[train_df.is_valid==True].reset_index()\n",
    "valid_df=add_measurements(valid_df)"
   ],
   "metadata": {
    "_cell_guid": "a12420b6-c806-485f-bf9d-f1cd04d35ce2",
    "_uuid": "39bae9ba-9280-42a9-80aa-cafa12a56b78",
    "execution": {
     "iopub.execute_input": "2021-05-23T12:17:50.537899Z",
     "iopub.status.busy": "2021-05-23T12:17:50.536361Z",
     "iopub.status.idle": "2021-05-23T12:17:54.772178Z",
     "shell.execute_reply": "2021-05-23T12:17:54.77121Z",
     "shell.execute_reply.started": "2021-05-23T11:17:07.99447Z"
    },
    "papermill": {
     "duration": 4.311861,
     "end_time": "2021-05-23T12:17:54.772319",
     "exception": false,
     "start_time": "2021-05-23T12:17:50.460458",
     "status": "completed"
    },
    "tags": []
   },
   "execution_count": null,
   "outputs": []
  },
  {
   "cell_type": "markdown",
   "source": [
    "### Generating embeddings from Resnet and BERT"
   ],
   "metadata": {
    "papermill": {
     "duration": 0.036441,
     "end_time": "2021-05-23T12:17:54.848358",
     "exception": false,
     "start_time": "2021-05-23T12:17:54.811917",
     "status": "completed"
    },
    "tags": []
   }
  },
  {
   "cell_type": "code",
   "source": [
    "img_embs,ys = embs_from_model(load_image_model(image_model_file), get_image_dls(224,256).valid)\n",
    "\n",
    "bert_embs, ys = embs_from_model(load_bert_model(bert_model_file), get_text_dls().valid)"
   ],
   "metadata": {
    "execution": {
     "iopub.execute_input": "2021-05-23T12:17:54.924681Z",
     "iopub.status.busy": "2021-05-23T12:17:54.92373Z",
     "iopub.status.idle": "2021-05-23T12:17:54.927044Z",
     "shell.execute_reply": "2021-05-23T12:17:54.926557Z",
     "shell.execute_reply.started": "2021-05-23T11:09:21.789457Z"
    },
    "papermill": {
     "duration": 0.042712,
     "end_time": "2021-05-23T12:17:54.927167",
     "exception": false,
     "start_time": "2021-05-23T12:17:54.884455",
     "status": "completed"
    },
    "tags": []
   },
   "execution_count": null,
   "outputs": []
  },
  {
   "cell_type": "code",
   "source": [],
   "metadata": {
    "papermill": {
     "duration": 0.036677,
     "end_time": "2021-05-23T12:17:54.999937",
     "exception": false,
     "start_time": "2021-05-23T12:17:54.96326",
     "status": "completed"
    },
    "tags": []
   },
   "execution_count": null,
   "outputs": []
  },
  {
   "cell_type": "markdown",
   "source": [
    "**This is the score we'd get by simply taking all matches above a fixed threshold:**"
   ],
   "metadata": {
    "papermill": {
     "duration": 0.050058,
     "end_time": "2021-05-23T12:17:55.086412",
     "exception": false,
     "start_time": "2021-05-23T12:17:55.036354",
     "status": "completed"
    },
    "tags": []
   }
  },
  {
   "cell_type": "code",
   "source": [
    "set_size = len(img_embs)\n",
    "target_matrix= ys[:,None]==ys[None,:]\n",
    "targets = [torch.where(t)[0].tolist() for t in target_matrix] \n",
    "\n",
    "combined_inds, combined_dists = combined_distances([img_embs, bert_embs])\n",
    "pairs = sorted_pairs(combined_dists, combined_inds)\n",
    "_=build_from_pairs(pairs[:10*len(combined_inds)], targets)"
   ],
   "metadata": {
    "execution": {
     "iopub.execute_input": "2021-05-23T12:17:55.168277Z",
     "iopub.status.busy": "2021-05-23T12:17:55.167092Z",
     "iopub.status.idle": "2021-05-23T12:17:55.170243Z",
     "shell.execute_reply": "2021-05-23T12:17:55.17073Z",
     "shell.execute_reply.started": "2021-05-23T11:12:10.197564Z"
    },
    "papermill": {
     "duration": 0.047353,
     "end_time": "2021-05-23T12:17:55.170907",
     "exception": false,
     "start_time": "2021-05-23T12:17:55.123554",
     "status": "completed"
    },
    "tags": []
   },
   "execution_count": null,
   "outputs": []
  },
  {
   "cell_type": "markdown",
   "source": [
    "**This is the score after Neighborhood Blending:**"
   ],
   "metadata": {
    "papermill": {
     "duration": 0.036976,
     "end_time": "2021-05-23T12:17:55.244027",
     "exception": false,
     "start_time": "2021-05-23T12:17:55.207051",
     "status": "completed"
    },
    "tags": []
   }
  },
  {
   "cell_type": "code",
   "source": [
    "new_embs = blend_embs([img_embs, bert_embs], RECIPROCAL_THRESHOLD, MIN_PAIR_THRESHOLD, valid_df)\n",
    "\n",
    "combined_inds, combined_dists = combined_distances(new_embs)\n",
    "pairs = sorted_pairs(combined_dists, combined_inds)\n",
    "_=build_from_pairs(pairs[:10*len(combined_inds)], targets)"
   ],
   "metadata": {
    "execution": {
     "iopub.execute_input": "2021-05-23T12:17:55.324058Z",
     "iopub.status.busy": "2021-05-23T12:17:55.322907Z",
     "iopub.status.idle": "2021-05-23T12:17:55.326249Z",
     "shell.execute_reply": "2021-05-23T12:17:55.325697Z",
     "shell.execute_reply.started": "2021-05-23T11:21:17.725412Z"
    },
    "papermill": {
     "duration": 0.04519,
     "end_time": "2021-05-23T12:17:55.326378",
     "exception": false,
     "start_time": "2021-05-23T12:17:55.281188",
     "status": "completed"
    },
    "tags": []
   },
   "execution_count": null,
   "outputs": []
  },
  {
   "cell_type": "markdown",
   "source": [
    "### Removing false positives based on measurements"
   ],
   "metadata": {
    "papermill": {
     "duration": 0.036306,
     "end_time": "2021-05-23T12:17:55.400301",
     "exception": false,
     "start_time": "2021-05-23T12:17:55.363995",
     "status": "completed"
    },
    "tags": []
   }
  },
  {
   "cell_type": "code",
   "source": [
    "check_measurements(combined_dists, combined_inds, valid_df)\n",
    "pairs = sorted_pairs(combined_dists, combined_inds)\n",
    "_=build_from_pairs(pairs[:10*len(combined_inds)], targets)"
   ],
   "metadata": {
    "execution": {
     "iopub.execute_input": "2021-05-23T12:17:55.47892Z",
     "iopub.status.busy": "2021-05-23T12:17:55.477875Z",
     "iopub.status.idle": "2021-05-23T12:17:55.481358Z",
     "shell.execute_reply": "2021-05-23T12:17:55.480759Z",
     "shell.execute_reply.started": "2021-05-23T11:21:33.612133Z"
    },
    "papermill": {
     "duration": 0.044469,
     "end_time": "2021-05-23T12:17:55.481487",
     "exception": false,
     "start_time": "2021-05-23T12:17:55.437018",
     "status": "completed"
    },
    "tags": []
   },
   "execution_count": null,
   "outputs": []
  },
  {
   "cell_type": "markdown",
   "source": [
    "### Here we perform the chisel step to match the two distributions\n",
    "This doesn't help here where we already have good matches, the effect is more pronounced on the test set where the initial grouping is further apart from the target"
   ],
   "metadata": {
    "papermill": {
     "duration": 0.037135,
     "end_time": "2021-05-23T12:17:55.554817",
     "exception": false,
     "start_time": "2021-05-23T12:17:55.517682",
     "status": "completed"
    },
    "tags": []
   }
  },
  {
   "cell_type": "code",
   "source": [
    "groups = [[] for _ in range(set_size)]\n",
    "groups_p = [[] for _ in range(set_size)]\n",
    "for x,y,v in pairs:\n",
    "    groups[x].append(y)\n",
    "    groups_p[x].append(v)\n",
    "for pos, size_pct in get_targets_shape(train_df):\n",
    "    chisel(groups, groups_p, pos, int(size_pct * len(groups)))\n",
    "show_groups(groups, targets)"
   ],
   "metadata": {
    "execution": {
     "iopub.execute_input": "2021-05-23T12:17:55.633446Z",
     "iopub.status.busy": "2021-05-23T12:17:55.632568Z",
     "iopub.status.idle": "2021-05-23T12:17:55.636325Z",
     "shell.execute_reply": "2021-05-23T12:17:55.635695Z",
     "shell.execute_reply.started": "2021-05-23T11:22:49.689046Z"
    },
    "papermill": {
     "duration": 0.044845,
     "end_time": "2021-05-23T12:17:55.636453",
     "exception": false,
     "start_time": "2021-05-23T12:17:55.591608",
     "status": "completed"
    },
    "tags": []
   },
   "execution_count": null,
   "outputs": []
  },
  {
   "cell_type": "markdown",
   "source": [
    "## Run on the test set\n",
    "same as above, just without displaying stuff."
   ],
   "metadata": {
    "_cell_guid": "ea45a659-b9da-4171-a51c-19378f4ccdbb",
    "_uuid": "eb5fea9c-c0fe-4934-be60-a75c5962474a",
    "papermill": {
     "duration": 0.037105,
     "end_time": "2021-05-23T12:17:55.710353",
     "exception": false,
     "start_time": "2021-05-23T12:17:55.673248",
     "status": "completed"
    },
    "tags": []
   }
  },
  {
   "cell_type": "code",
   "source": [
    "test_df = pd.read_csv(PATH/'test.csv')\n",
    "test_df = add_measurements(test_df)"
   ],
   "metadata": {
    "_cell_guid": "85ab3f63-87f6-49f9-a644-184537e7620a",
    "_uuid": "b67286d1-7737-4a27-9f27-0f895fae7bb9",
    "collapsed": false,
    "execution": {
     "iopub.execute_input": "2021-05-23T12:17:55.792065Z",
     "iopub.status.busy": "2021-05-23T12:17:55.791407Z",
     "iopub.status.idle": "2021-05-23T12:17:55.803221Z",
     "shell.execute_reply": "2021-05-23T12:17:55.802601Z",
     "shell.execute_reply.started": "2021-05-23T09:52:16.542918Z"
    },
    "papermill": {
     "duration": 0.056188,
     "end_time": "2021-05-23T12:17:55.803344",
     "exception": false,
     "start_time": "2021-05-23T12:17:55.747156",
     "status": "completed"
    },
    "tags": []
   },
   "execution_count": null,
   "outputs": []
  },
  {
   "cell_type": "code",
   "source": [
    "TRIAL_RUN=False\n",
    "\n",
    "if TRIAL_RUN:\n",
    "    fake_test_df = train_df[['posting_id', 'image', 'image_phash', 'title', 'label_group']].copy()\n",
    "    fake_test_df = pd.concat([fake_test_df, fake_test_df])\n",
    "    fake_test_df = add_target_groups(fake_test_df)\n",
    "    test_df = fake_test_df"
   ],
   "metadata": {
    "execution": {
     "iopub.execute_input": "2021-05-23T12:17:55.883988Z",
     "iopub.status.busy": "2021-05-23T12:17:55.88289Z",
     "iopub.status.idle": "2021-05-23T12:17:55.885874Z",
     "shell.execute_reply": "2021-05-23T12:17:55.88642Z",
     "shell.execute_reply.started": "2021-05-23T09:52:28.840813Z"
    },
    "papermill": {
     "duration": 0.045846,
     "end_time": "2021-05-23T12:17:55.88656",
     "exception": false,
     "start_time": "2021-05-23T12:17:55.840714",
     "status": "completed"
    },
    "tags": []
   },
   "execution_count": null,
   "outputs": []
  },
  {
   "cell_type": "code",
   "source": [
    "bert_embs,_ = embs_from_model(load_bert_model(bert_model_file), get_text_dls().test_dl(test_df))\n",
    "\n",
    "img_embs,_ =embs_from_model(load_image_model(image_model_file), get_image_dls(224, 256).test_dl(test_df))"
   ],
   "metadata": {
    "_cell_guid": "e21bad7b-ce82-47b3-b07c-65efb1ed2c0f",
    "_uuid": "f9d641f6-bb96-47cd-adde-0ad20bfeae4e",
    "collapsed": false,
    "execution": {
     "iopub.execute_input": "2021-05-23T12:17:55.966658Z",
     "iopub.status.busy": "2021-05-23T12:17:55.965994Z",
     "iopub.status.idle": "2021-05-23T12:18:13.371092Z",
     "shell.execute_reply": "2021-05-23T12:18:13.370466Z",
     "shell.execute_reply.started": "2021-05-23T09:53:26.723711Z"
    },
    "papermill": {
     "duration": 17.447134,
     "end_time": "2021-05-23T12:18:13.371236",
     "exception": false,
     "start_time": "2021-05-23T12:17:55.924102",
     "status": "completed"
    },
    "tags": []
   },
   "execution_count": null,
   "outputs": []
  },
  {
   "cell_type": "code",
   "source": [
    "set_size = len(img_embs)"
   ],
   "metadata": {
    "execution": {
     "iopub.execute_input": "2021-05-23T12:18:13.456502Z",
     "iopub.status.busy": "2021-05-23T12:18:13.455845Z",
     "iopub.status.idle": "2021-05-23T12:18:13.460327Z",
     "shell.execute_reply": "2021-05-23T12:18:13.461071Z",
     "shell.execute_reply.started": "2021-05-23T09:53:35.794504Z"
    },
    "papermill": {
     "duration": 0.048184,
     "end_time": "2021-05-23T12:18:13.461248",
     "exception": false,
     "start_time": "2021-05-23T12:18:13.413064",
     "status": "completed"
    },
    "tags": []
   },
   "execution_count": null,
   "outputs": []
  },
  {
   "cell_type": "code",
   "source": [
    "%%time\n",
    "new_embs = blend_embs([img_embs, bert_embs], RECIPROCAL_THRESHOLD, MIN_PAIR_THRESHOLD, test_df)\n"
   ],
   "metadata": {
    "execution": {
     "iopub.execute_input": "2021-05-23T12:18:13.543413Z",
     "iopub.status.busy": "2021-05-23T12:18:13.542639Z",
     "iopub.status.idle": "2021-05-23T12:18:13.591947Z",
     "shell.execute_reply": "2021-05-23T12:18:13.591087Z",
     "shell.execute_reply.started": "2021-05-23T12:07:09.111288Z"
    },
    "papermill": {
     "duration": 0.092394,
     "end_time": "2021-05-23T12:18:13.59217",
     "exception": false,
     "start_time": "2021-05-23T12:18:13.499776",
     "status": "completed"
    },
    "tags": []
   },
   "execution_count": null,
   "outputs": []
  },
  {
   "cell_type": "code",
   "source": [
    "combined_inds, combined_dists = combined_distances(new_embs)"
   ],
   "metadata": {
    "execution": {
     "iopub.execute_input": "2021-05-23T12:18:13.677475Z",
     "iopub.status.busy": "2021-05-23T12:18:13.675593Z",
     "iopub.status.idle": "2021-05-23T12:18:13.683722Z",
     "shell.execute_reply": "2021-05-23T12:18:13.683194Z",
     "shell.execute_reply.started": "2021-05-23T09:53:47.871886Z"
    },
    "papermill": {
     "duration": 0.051091,
     "end_time": "2021-05-23T12:18:13.683888",
     "exception": false,
     "start_time": "2021-05-23T12:18:13.632797",
     "status": "completed"
    },
    "tags": []
   },
   "execution_count": null,
   "outputs": []
  },
  {
   "cell_type": "code",
   "source": [
    "check_measurements(combined_dists, combined_inds, test_df)"
   ],
   "metadata": {
    "execution": {
     "iopub.execute_input": "2021-05-23T12:18:13.766547Z",
     "iopub.status.busy": "2021-05-23T12:18:13.765447Z",
     "iopub.status.idle": "2021-05-23T12:18:13.777825Z",
     "shell.execute_reply": "2021-05-23T12:18:13.776937Z",
     "shell.execute_reply.started": "2021-05-23T09:57:29.123511Z"
    },
    "papermill": {
     "duration": 0.054787,
     "end_time": "2021-05-23T12:18:13.778085",
     "exception": false,
     "start_time": "2021-05-23T12:18:13.723298",
     "status": "completed"
    },
    "tags": []
   },
   "execution_count": null,
   "outputs": []
  },
  {
   "cell_type": "code",
   "source": [
    "pairs = sorted_pairs(combined_dists, combined_inds)"
   ],
   "metadata": {
    "execution": {
     "iopub.execute_input": "2021-05-23T12:18:13.864097Z",
     "iopub.status.busy": "2021-05-23T12:18:13.862928Z",
     "iopub.status.idle": "2021-05-23T12:18:13.867213Z",
     "shell.execute_reply": "2021-05-23T12:18:13.867831Z",
     "shell.execute_reply.started": "2021-05-23T09:57:32.920947Z"
    },
    "papermill": {
     "duration": 0.049412,
     "end_time": "2021-05-23T12:18:13.868002",
     "exception": false,
     "start_time": "2021-05-23T12:18:13.81859",
     "status": "completed"
    },
    "tags": []
   },
   "execution_count": null,
   "outputs": []
  },
  {
   "cell_type": "code",
   "source": [
    "groups = [[] for _ in range(set_size)]\n",
    "groups_p = [[] for _ in range(set_size)]\n",
    "for x,y,v in pairs:\n",
    "    groups[x].append(y)\n",
    "    groups_p[x].append(v)\n",
    "for pos, size_pct in get_targets_shape(train_df):\n",
    "    chisel(groups, groups_p, pos, int(size_pct * len(groups)))"
   ],
   "metadata": {
    "execution": {
     "iopub.execute_input": "2021-05-23T12:18:13.954889Z",
     "iopub.status.busy": "2021-05-23T12:18:13.953925Z",
     "iopub.status.idle": "2021-05-23T12:18:14.524155Z",
     "shell.execute_reply": "2021-05-23T12:18:14.523538Z",
     "shell.execute_reply.started": "2021-05-23T09:57:33.12113Z"
    },
    "papermill": {
     "duration": 0.616528,
     "end_time": "2021-05-23T12:18:14.52431",
     "exception": false,
     "start_time": "2021-05-23T12:18:13.907782",
     "status": "completed"
    },
    "tags": []
   },
   "execution_count": null,
   "outputs": []
  },
  {
   "cell_type": "code",
   "source": [
    "matches = [' '.join(test_df.iloc[g].posting_id.to_list()) for g in groups]\n",
    "test_df['matches'] = matches\n",
    "\n",
    "test_df[['posting_id','matches']].to_csv('submission.csv',index=False)"
   ],
   "metadata": {
    "_cell_guid": "c0fc32bc-c424-4e84-9927-6da8e23e3c90",
    "_uuid": "70a4b021-d4dd-4266-9fe3-76afd4827239",
    "collapsed": false,
    "execution": {
     "iopub.execute_input": "2021-05-23T12:18:14.611646Z",
     "iopub.status.busy": "2021-05-23T12:18:14.610935Z",
     "iopub.status.idle": "2021-05-23T12:18:14.780635Z",
     "shell.execute_reply": "2021-05-23T12:18:14.780059Z",
     "shell.execute_reply.started": "2021-05-23T09:57:33.417658Z"
    },
    "papermill": {
     "duration": 0.217355,
     "end_time": "2021-05-23T12:18:14.780789",
     "exception": false,
     "start_time": "2021-05-23T12:18:14.563434",
     "status": "completed"
    },
    "tags": []
   },
   "execution_count": null,
   "outputs": []
  },
  {
   "cell_type": "code",
   "source": [
    "pd.read_csv('submission.csv').head()"
   ],
   "metadata": {
    "_cell_guid": "0e112eb9-6f2d-41a9-8427-8c220290fafe",
    "_uuid": "18873ab2-7d6d-4758-bf92-e2bf9b189042",
    "collapsed": false,
    "execution": {
     "iopub.execute_input": "2021-05-23T12:18:14.8713Z",
     "iopub.status.busy": "2021-05-23T12:18:14.870339Z",
     "iopub.status.idle": "2021-05-23T12:18:14.879356Z",
     "shell.execute_reply": "2021-05-23T12:18:14.87988Z",
     "shell.execute_reply.started": "2021-05-23T09:57:33.73105Z"
    },
    "papermill": {
     "duration": 0.059651,
     "end_time": "2021-05-23T12:18:14.880151",
     "exception": false,
     "start_time": "2021-05-23T12:18:14.8205",
     "status": "completed"
    },
    "tags": []
   },
   "execution_count": null,
   "outputs": []
  },
  {
   "cell_type": "code",
   "source": [],
   "metadata": {
    "_cell_guid": "72ef3a00-c056-497c-84ce-c7ba080b6762",
    "_uuid": "9125057f-3ee4-4ed7-bd29-e5413d25ea1e",
    "collapsed": false,
    "papermill": {
     "duration": 0.039045,
     "end_time": "2021-05-23T12:18:14.958789",
     "exception": false,
     "start_time": "2021-05-23T12:18:14.919744",
     "status": "completed"
    },
    "tags": []
   },
   "execution_count": null,
   "outputs": []
  }
 ]
}
